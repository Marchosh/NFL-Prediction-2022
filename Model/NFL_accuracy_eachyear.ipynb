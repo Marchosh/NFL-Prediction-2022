{
  "nbformat": 4,
  "nbformat_minor": 0,
  "metadata": {
    "colab": {
      "provenance": [],
      "authorship_tag": "ABX9TyPy+Vhw94u7G4Hu/KjfgOUD",
      "include_colab_link": true
    },
    "kernelspec": {
      "name": "python3",
      "display_name": "Python 3"
    },
    "language_info": {
      "name": "python"
    }
  },
  "cells": [
    {
      "cell_type": "markdown",
      "metadata": {
        "id": "view-in-github",
        "colab_type": "text"
      },
      "source": [
        "<a href=\"https://colab.research.google.com/github/Marchosh/NFL-Prediction-2022/blob/main/Model/NFL_accuracy_eachyear.ipynb\" target=\"_parent\"><img src=\"https://colab.research.google.com/assets/colab-badge.svg\" alt=\"Open In Colab\"/></a>"
      ]
    },
    {
      "cell_type": "code",
      "execution_count": 254,
      "metadata": {
        "id": "pGRiigL2DPcq"
      },
      "outputs": [],
      "source": [
        "import pandas as pd\n",
        "df_19 = pd.read_csv('https://raw.githubusercontent.com/Marchosh/NFL-Prediction-2022/main/Data/2019_NFL_COMBINE_REFORMATED.csv')\n",
        "df_20 = pd.read_csv('https://raw.githubusercontent.com/Marchosh/NFL-Prediction-2022/main/Data/2020_NFL_COMBINE_REFORMATED.csv')\n",
        "df_21 = pd.read_csv('https://raw.githubusercontent.com/Marchosh/NFL-Prediction-2022/main/Data/2021_NFL_COMBINE_REFORMATED.csv')\n",
        "df_22 = pd.read_csv('https://raw.githubusercontent.com/Marchosh/NFL-Prediction-2022/main/Data/2022_NFL_COMBINE_REFORMATED.csv')\n"
      ]
    },
    {
      "cell_type": "code",
      "source": [],
      "metadata": {
        "id": "ijbc_fdPW2Bn"
      },
      "execution_count": 254,
      "outputs": []
    },
    {
      "cell_type": "code",
      "source": [
        "#df.to_csv('2019_NFL_COMBINE_REFORMATED.csv')"
      ],
      "metadata": {
        "id": "xvKXDP3b4pgi"
      },
      "execution_count": 255,
      "outputs": []
    },
    {
      "cell_type": "code",
      "source": [],
      "metadata": {
        "id": "RjHC1_Xoe1p2"
      },
      "execution_count": 255,
      "outputs": []
    },
    {
      "cell_type": "code",
      "source": [
        "df_19.dropna(subset = ['Unnamed: 5', 'Date'], inplace=True)\n",
        "df_20.dropna(subset = ['Unnamed: 5', 'Date'], inplace=True)\n",
        "df_21.dropna(subset = ['Unnamed: 5', 'Date'], inplace=True)\n",
        "df_22.dropna(subset = ['Unnamed: 5', 'Date'], inplace=True)"
      ],
      "metadata": {
        "id": "I_3wyimY3XM3"
      },
      "execution_count": 256,
      "outputs": []
    },
    {
      "cell_type": "code",
      "source": [
        "df_19.drop(['Unnamed: 0','Week','Day'], axis =1 ,inplace=True)\n",
        "df_20.drop(['Unnamed: 0','Week','Day'], axis =1 ,inplace=True)\n",
        "df_21.drop(['Unnamed: 0','Week','Day'], axis =1 ,inplace=True)\n",
        "df_22.drop(['Unnamed: 0','Week','Day'], axis =1 ,inplace=True)"
      ],
      "metadata": {
        "id": "zfCh9W2M3tiz"
      },
      "execution_count": 257,
      "outputs": []
    },
    {
      "cell_type": "code",
      "source": [
        "df_19['Date'] = pd.to_datetime(df_19['Date'])\n",
        "df_20['Date'] = pd.to_datetime(df_20['Date'])\n",
        "df_21['Date'] = pd.to_datetime(df_21['Date'])\n",
        "df_22['Date'] = pd.to_datetime(df_22['Date'])"
      ],
      "metadata": {
        "id": "Lk4t7D3y4TWx"
      },
      "execution_count": 258,
      "outputs": []
    },
    {
      "cell_type": "code",
      "source": [
        "#Sort and reset index\n",
        "df_19 = df_19.sort_values(by='Date',ascending=True)\n",
        "df_19.reset_index(inplace=True)\n",
        "\n",
        "df_20 = df_20.sort_values(by='Date',ascending=True)\n",
        "df_20.reset_index(inplace=True)\n",
        "\n",
        "df_21 = df_21.sort_values(by='Date',ascending=True)\n",
        "df_21.reset_index(inplace=True)\n",
        "\n",
        "df_22 = df_22.sort_values(by='Date',ascending=True)\n",
        "df_22.reset_index(inplace=True)\n"
      ],
      "metadata": {
        "id": "ubtdOYV8DVYg"
      },
      "execution_count": 259,
      "outputs": []
    },
    {
      "cell_type": "code",
      "source": [
        "#drop unecessary column\n",
        "df_19.drop(['index', 'Unnamed: 0.1'], axis =1, inplace=True)\n",
        "df_20.drop(['index', 'Unnamed: 0.1'], axis =1, inplace=True)\n",
        "df_21.drop(['index', 'Unnamed: 0.1'], axis =1, inplace=True)\n",
        "df_22.drop(['index', 'Unnamed: 0.1'], axis =1, inplace=True)\n",
        "\n"
      ],
      "metadata": {
        "id": "NYYY9Xqb6GGo"
      },
      "execution_count": 260,
      "outputs": []
    },
    {
      "cell_type": "code",
      "source": [
        "#save the file\n",
        "df_19.to_csv('NFL2019_BeforePred.csv')\n",
        "df_20.to_csv('NFL2019_BeforePred.csv')\n",
        "df_21.to_csv('NFL2019_BeforePred.csv')\n",
        "df_22.to_csv('NFL2019_BeforePred.csv')"
      ],
      "metadata": {
        "id": "oebSERWa6nhc"
      },
      "execution_count": 261,
      "outputs": []
    },
    {
      "cell_type": "markdown",
      "source": [
        "#Preprocess Data"
      ],
      "metadata": {
        "id": "vh4cFBg66y75"
      }
    },
    {
      "cell_type": "code",
      "source": [
        "df_19.drop(['Date', 'Tm',\t'Opp.1'], axis =1, inplace=True)\n",
        "df_20.drop(['Date', 'Tm',\t'Opp.1'], axis =1, inplace=True)\n",
        "df_21.drop(['Date', 'Tm',\t'Opp.1'], axis =1, inplace=True)\n",
        "df_22.drop(['Date', 'Tm',\t'Opp.1'], axis =1, inplace=True)"
      ],
      "metadata": {
        "id": "_uIkv-pw61JL"
      },
      "execution_count": 262,
      "outputs": []
    },
    {
      "cell_type": "code",
      "source": [
        "#fill null with 0\n",
        "df_19['TO'] = df_19['TO'].fillna(0)\n",
        "df_19['TO.1'] = df_19['TO.1'].fillna(0)\n",
        "df_19 = pd.DataFrame(df_19, columns=df_19.columns)\n",
        "\n",
        "df_20['TO'] = df_20['TO'].fillna(0)\n",
        "df_20['TO.1'] = df_20['TO.1'].fillna(0)\n",
        "df_20 = pd.DataFrame(df_20, columns=df_20.columns)\n",
        "\n",
        "df_21['TO'] = df_21['TO'].fillna(0)\n",
        "df_21['TO.1'] = df_21['TO.1'].fillna(0)\n",
        "df_21 = pd.DataFrame(df_21, columns=df_21.columns)\n",
        "\n",
        "df_22['TO'] = df_22['TO'].fillna(0)\n",
        "df_22['TO.1'] = df_22['TO.1'].fillna(0)\n",
        "df_22 = pd.DataFrame(df_22, columns=df_22.columns)"
      ],
      "metadata": {
        "id": "orUWqxmQW-Dd"
      },
      "execution_count": 263,
      "outputs": []
    },
    {
      "cell_type": "code",
      "source": [
        "#save the winning result\n",
        "df_19_winner = df_19['Unnamed: 5']\n",
        "df_20_winner = df_20['Unnamed: 5']\n",
        "df_21_winner = df_21['Unnamed: 5']\n",
        "df_22_winner = df_22['Unnamed: 5']"
      ],
      "metadata": {
        "id": "QUenmXUlluN5"
      },
      "execution_count": 264,
      "outputs": []
    },
    {
      "cell_type": "code",
      "source": [
        "df_19.drop(['Unnamed: 5'], axis =1, inplace=True)\n",
        "df_20.drop(['Unnamed: 5'], axis =1, inplace=True)\n",
        "df_21.drop(['Unnamed: 5'], axis =1, inplace=True)\n",
        "df_22.drop(['Unnamed: 5'], axis =1, inplace=True)"
      ],
      "metadata": {
        "id": "oQ9xbESLlvq2"
      },
      "execution_count": 265,
      "outputs": []
    },
    {
      "cell_type": "code",
      "source": [
        "#All team name\n",
        "away = {\n",
        "    'Opp': ['Tampa Bay Buccaneers', 'Cincinnati Bengals',\n",
        "       'Pittsburgh Steelers', 'Los Angeles Rams', 'Washington Redskins',\n",
        "       'Carolina Panthers', 'Seattle Seahawks', 'Arizona Cardinals',\n",
        "       'Baltimore Ravens', 'New Orleans Saints', 'Atlanta Falcons',\n",
        "       'Minnesota Vikings', 'Kansas City Chiefs', 'Oakland Raiders',\n",
        "       'Los Angeles Chargers', 'New York Giants', 'Detroit Lions',\n",
        "       'San Francisco 49ers', 'Buffalo Bills', 'Cleveland Browns',\n",
        "       'Miami Dolphins', 'Tennessee Titans', 'Houston Texans',\n",
        "       'New York Jets', 'Jacksonville Jaguars', 'Indianapolis Colts',\n",
        "       'New England Patriots', 'Philadelphia Eagles', 'Denver Broncos',\n",
        "       'Chicago Bears', 'Dallas Cowboys', 'Green Bay Packers',\n",
        "       'Washington Football Team', 'Las Vegas Raiders',\n",
        "       'Washington Commanders']}\n",
        "home = {\n",
        "       'Home_team': ['San Francisco 49ers', 'Chicago Bears', 'Cincinnati Bengals',\n",
        "       'Denver Broncos', 'Cleveland Browns', 'Tampa Bay Buccaneers',\n",
        "       'Buffalo Bills', 'Arizona Cardinals', 'Los Angeles Chargers',\n",
        "       'Kansas City Chiefs', 'Indianapolis Colts', 'Dallas Cowboys',\n",
        "       'Miami Dolphins', 'Philadelphia Eagles', 'Atlanta Falcons',\n",
        "       'New York Giants', 'Jacksonville Jaguars', 'New York Jets',\n",
        "       'Detroit Lions', 'Green Bay Packers', 'Carolina Panthers',\n",
        "       'New England Patriots', 'Oakland Raiders', 'Los Angeles Rams',\n",
        "       'Baltimore Ravens', 'New Orleans Saints', 'Seattle Seahawks',\n",
        "       'Pittsburgh Steelers', 'Houston Texans', 'Tennessee Titans',\n",
        "       'Minnesota Vikings']\n",
        "}\n",
        "away_t = pd.DataFrame(data=away)\n",
        "home_t = pd.DataFrame(data=home)\n",
        "df_teamname = pd.concat([away_t, home_t], axis=1)\n",
        "#df_teamname"
      ],
      "metadata": {
        "id": "GO8c3_L7KKp0"
      },
      "execution_count": 266,
      "outputs": []
    },
    {
      "cell_type": "code",
      "source": [
        "print(df_19.shape, df_20.shape, df_21.shape, df_22.shape)"
      ],
      "metadata": {
        "id": "QYqZaenCRbbF",
        "colab": {
          "base_uri": "https://localhost:8080/"
        },
        "outputId": "0c5fb011-1546-4913-f95d-4d435bea01dd"
      },
      "execution_count": 267,
      "outputs": [
        {
          "output_type": "stream",
          "name": "stdout",
          "text": [
            "(518, 15) (521, 15) (553, 15) (158, 15)\n"
          ]
        }
      ]
    },
    {
      "cell_type": "code",
      "source": [
        "#Combine 2 dataframe\n",
        "df2_19 = pd.concat([df_19, df_teamname])\n",
        "\n",
        "df2_20 = pd.concat([df_20, df_teamname])\n",
        "\n",
        "df2_21 = pd.concat([df_21, df_teamname])\n",
        "\n",
        "df2_22 = pd.concat([df_22, df_teamname])"
      ],
      "metadata": {
        "id": "JL5stYSSQvmR"
      },
      "execution_count": 268,
      "outputs": []
    },
    {
      "cell_type": "code",
      "source": [
        "#COnver to dummy\n",
        "df2_19 = pd.get_dummies(df2_19, columns=['Opp','Home_team'])\n",
        "df2_20 = pd.get_dummies(df2_20, columns=['Opp','Home_team'])\n",
        "df2_21 = pd.get_dummies(df2_21, columns=['Opp','Home_team'])\n",
        "df2_22 = pd.get_dummies(df2_22, columns=['Opp','Home_team'])\n"
      ],
      "metadata": {
        "id": "dR4_CGCl61gR"
      },
      "execution_count": 269,
      "outputs": []
    },
    {
      "cell_type": "code",
      "source": [
        "print(df2_19.shape, df2_20.shape, df2_21.shape, df2_22.shape)"
      ],
      "metadata": {
        "colab": {
          "base_uri": "https://localhost:8080/"
        },
        "id": "aDNM4PxsZbo1",
        "outputId": "6cb57eac-23fd-4b0a-96c1-601830521aca"
      },
      "execution_count": 270,
      "outputs": [
        {
          "output_type": "stream",
          "name": "stdout",
          "text": [
            "(553, 79) (556, 79) (588, 79) (193, 79)\n"
          ]
        }
      ]
    },
    {
      "cell_type": "code",
      "source": [
        "#drop the added column\n",
        "df2_19.reset_index(inplace=True, drop=True)\n",
        "df2_19.drop(df2_19.index[518:553], axis=0, inplace=True)\n",
        "#df2.shape\n",
        "\n",
        "df2_20.reset_index(inplace=True, drop=True)\n",
        "df2_20.drop(df2_20.index[521:556], axis=0, inplace=True)\n",
        "\n",
        "df2_21.reset_index(inplace=True, drop=True)\n",
        "df2_21.drop(df2_21.index[553:588], axis=0, inplace=True)\n",
        "\n",
        "df2_22.reset_index(inplace=True, drop=True)\n",
        "df2_22.drop(df2_22.index[158:193], axis=0, inplace=True)"
      ],
      "metadata": {
        "id": "7CqRuOnphT7T"
      },
      "execution_count": 271,
      "outputs": []
    },
    {
      "cell_type": "code",
      "source": [
        "#df2"
      ],
      "metadata": {
        "id": "q-llTYJphhzq"
      },
      "execution_count": 272,
      "outputs": []
    },
    {
      "cell_type": "code",
      "source": [
        "#Robust Scaller\n",
        "from sklearn.preprocessing import RobustScaler\n",
        "\n",
        "scaler = RobustScaler()\n",
        "df_scaled_19 = scaler.fit_transform(df2_19)\n",
        "df_scaled_20 = scaler.fit_transform(df2_20)\n",
        "df_scaled_21 = scaler.fit_transform(df2_21)\n",
        "df_scaled_22 = scaler.fit_transform(df2_22)\n",
        "\n"
      ],
      "metadata": {
        "id": "rwSZzbqJ61i2"
      },
      "execution_count": 273,
      "outputs": []
    },
    {
      "cell_type": "code",
      "source": [
        "df_scaled = pd.DataFrame(df_scaled, columns=df2.columns)\n",
        "df_scaled.describe()"
      ],
      "metadata": {
        "id": "2lfAScYX_35U",
        "colab": {
          "base_uri": "https://localhost:8080/",
          "height": 428
        },
        "outputId": "569ef772-2929-4d9d-ebae-78794a0d5b58"
      },
      "execution_count": 274,
      "outputs": [
        {
          "output_type": "execute_result",
          "data": {
            "text/plain": [
              "              1stD        TotYd        PassY        RushY           TO  \\\n",
              "count  2037.000000  2037.000000  2037.000000  2037.000000  2037.000000   \n",
              "mean     -0.083105     0.018831     0.011623     0.119928     0.186058   \n",
              "std       0.697499     0.682980     0.726673     0.778392     0.628203   \n",
              "min      -2.142857    -1.898438    -1.731481    -1.308824    -0.500000   \n",
              "25%      -0.571429    -0.500000    -0.527778    -0.426471    -0.500000   \n",
              "50%       0.000000     0.000000     0.000000     0.000000     0.000000   \n",
              "75%       0.428571     0.500000     0.472222     0.573529     0.500000   \n",
              "max       2.142857     2.304688     2.361111     2.632353     3.000000   \n",
              "\n",
              "            1stD.1      TotYd.1      PassY.1      RushY.1         TO.1  ...  \\\n",
              "count  2037.000000  2037.000000  2037.000000  2037.000000  2037.000000  ...   \n",
              "mean      0.032330     0.000337     0.002027     0.113345     0.185322  ...   \n",
              "std       0.713111     0.705697     0.731584     0.765934     0.633771  ...   \n",
              "min      -2.000000    -1.951613    -1.706422    -1.275362    -0.500000  ...   \n",
              "25%      -0.428571    -0.524194    -0.541284    -0.434783    -0.500000  ...   \n",
              "50%       0.000000     0.000000     0.000000     0.000000     0.000000  ...   \n",
              "75%       0.571429     0.475806     0.458716     0.565217     0.500000  ...   \n",
              "max       2.285714     2.387097     2.348624     2.608696     3.000000  ...   \n",
              "\n",
              "       Home_team_New Orleans Saints  Home_team_New York Giants  \\\n",
              "count                   2072.000000                2072.000000   \n",
              "mean                       0.032819                   0.030405   \n",
              "std                        0.178204                   0.171742   \n",
              "min                        0.000000                   0.000000   \n",
              "25%                        0.000000                   0.000000   \n",
              "50%                        0.000000                   0.000000   \n",
              "75%                        0.000000                   0.000000   \n",
              "max                        1.000000                   1.000000   \n",
              "\n",
              "       Home_team_New York Jets  Home_team_Oakland Raiders  \\\n",
              "count              2072.000000                2072.000000   \n",
              "mean                  0.031371                   0.030888   \n",
              "std                   0.174359                   0.173056   \n",
              "min                   0.000000                   0.000000   \n",
              "25%                   0.000000                   0.000000   \n",
              "50%                   0.000000                   0.000000   \n",
              "75%                   0.000000                   0.000000   \n",
              "max                   1.000000                   1.000000   \n",
              "\n",
              "       Home_team_Philadelphia Eagles  Home_team_Pittsburgh Steelers  \\\n",
              "count                    2072.000000                    2072.000000   \n",
              "mean                        0.033301                       0.031371   \n",
              "std                         0.179465                       0.174359   \n",
              "min                         0.000000                       0.000000   \n",
              "25%                         0.000000                       0.000000   \n",
              "50%                         0.000000                       0.000000   \n",
              "75%                         0.000000                       0.000000   \n",
              "max                         1.000000                       1.000000   \n",
              "\n",
              "       Home_team_San Francisco 49ers  Home_team_Seattle Seahawks  \\\n",
              "count                    2072.000000                 2072.000000   \n",
              "mean                        0.037162                    0.034266   \n",
              "std                         0.189205                    0.181957   \n",
              "min                         0.000000                    0.000000   \n",
              "25%                         0.000000                    0.000000   \n",
              "50%                         0.000000                    0.000000   \n",
              "75%                         0.000000                    0.000000   \n",
              "max                         1.000000                    1.000000   \n",
              "\n",
              "       Home_team_Tampa Bay Buccaneers  Home_team_Tennessee Titans  \n",
              "count                     2072.000000                 2072.000000  \n",
              "mean                         0.030888                    0.036197  \n",
              "std                          0.173056                    0.186825  \n",
              "min                          0.000000                    0.000000  \n",
              "25%                          0.000000                    0.000000  \n",
              "50%                          0.000000                    0.000000  \n",
              "75%                          0.000000                    0.000000  \n",
              "max                          1.000000                    1.000000  \n",
              "\n",
              "[8 rows x 79 columns]"
            ],
            "text/html": [
              "\n",
              "  <div id=\"df-e54f1480-adc0-4de0-a141-e9e28aa23355\">\n",
              "    <div class=\"colab-df-container\">\n",
              "      <div>\n",
              "<style scoped>\n",
              "    .dataframe tbody tr th:only-of-type {\n",
              "        vertical-align: middle;\n",
              "    }\n",
              "\n",
              "    .dataframe tbody tr th {\n",
              "        vertical-align: top;\n",
              "    }\n",
              "\n",
              "    .dataframe thead th {\n",
              "        text-align: right;\n",
              "    }\n",
              "</style>\n",
              "<table border=\"1\" class=\"dataframe\">\n",
              "  <thead>\n",
              "    <tr style=\"text-align: right;\">\n",
              "      <th></th>\n",
              "      <th>1stD</th>\n",
              "      <th>TotYd</th>\n",
              "      <th>PassY</th>\n",
              "      <th>RushY</th>\n",
              "      <th>TO</th>\n",
              "      <th>1stD.1</th>\n",
              "      <th>TotYd.1</th>\n",
              "      <th>PassY.1</th>\n",
              "      <th>RushY.1</th>\n",
              "      <th>TO.1</th>\n",
              "      <th>...</th>\n",
              "      <th>Home_team_New Orleans Saints</th>\n",
              "      <th>Home_team_New York Giants</th>\n",
              "      <th>Home_team_New York Jets</th>\n",
              "      <th>Home_team_Oakland Raiders</th>\n",
              "      <th>Home_team_Philadelphia Eagles</th>\n",
              "      <th>Home_team_Pittsburgh Steelers</th>\n",
              "      <th>Home_team_San Francisco 49ers</th>\n",
              "      <th>Home_team_Seattle Seahawks</th>\n",
              "      <th>Home_team_Tampa Bay Buccaneers</th>\n",
              "      <th>Home_team_Tennessee Titans</th>\n",
              "    </tr>\n",
              "  </thead>\n",
              "  <tbody>\n",
              "    <tr>\n",
              "      <th>count</th>\n",
              "      <td>2037.000000</td>\n",
              "      <td>2037.000000</td>\n",
              "      <td>2037.000000</td>\n",
              "      <td>2037.000000</td>\n",
              "      <td>2037.000000</td>\n",
              "      <td>2037.000000</td>\n",
              "      <td>2037.000000</td>\n",
              "      <td>2037.000000</td>\n",
              "      <td>2037.000000</td>\n",
              "      <td>2037.000000</td>\n",
              "      <td>...</td>\n",
              "      <td>2072.000000</td>\n",
              "      <td>2072.000000</td>\n",
              "      <td>2072.000000</td>\n",
              "      <td>2072.000000</td>\n",
              "      <td>2072.000000</td>\n",
              "      <td>2072.000000</td>\n",
              "      <td>2072.000000</td>\n",
              "      <td>2072.000000</td>\n",
              "      <td>2072.000000</td>\n",
              "      <td>2072.000000</td>\n",
              "    </tr>\n",
              "    <tr>\n",
              "      <th>mean</th>\n",
              "      <td>-0.083105</td>\n",
              "      <td>0.018831</td>\n",
              "      <td>0.011623</td>\n",
              "      <td>0.119928</td>\n",
              "      <td>0.186058</td>\n",
              "      <td>0.032330</td>\n",
              "      <td>0.000337</td>\n",
              "      <td>0.002027</td>\n",
              "      <td>0.113345</td>\n",
              "      <td>0.185322</td>\n",
              "      <td>...</td>\n",
              "      <td>0.032819</td>\n",
              "      <td>0.030405</td>\n",
              "      <td>0.031371</td>\n",
              "      <td>0.030888</td>\n",
              "      <td>0.033301</td>\n",
              "      <td>0.031371</td>\n",
              "      <td>0.037162</td>\n",
              "      <td>0.034266</td>\n",
              "      <td>0.030888</td>\n",
              "      <td>0.036197</td>\n",
              "    </tr>\n",
              "    <tr>\n",
              "      <th>std</th>\n",
              "      <td>0.697499</td>\n",
              "      <td>0.682980</td>\n",
              "      <td>0.726673</td>\n",
              "      <td>0.778392</td>\n",
              "      <td>0.628203</td>\n",
              "      <td>0.713111</td>\n",
              "      <td>0.705697</td>\n",
              "      <td>0.731584</td>\n",
              "      <td>0.765934</td>\n",
              "      <td>0.633771</td>\n",
              "      <td>...</td>\n",
              "      <td>0.178204</td>\n",
              "      <td>0.171742</td>\n",
              "      <td>0.174359</td>\n",
              "      <td>0.173056</td>\n",
              "      <td>0.179465</td>\n",
              "      <td>0.174359</td>\n",
              "      <td>0.189205</td>\n",
              "      <td>0.181957</td>\n",
              "      <td>0.173056</td>\n",
              "      <td>0.186825</td>\n",
              "    </tr>\n",
              "    <tr>\n",
              "      <th>min</th>\n",
              "      <td>-2.142857</td>\n",
              "      <td>-1.898438</td>\n",
              "      <td>-1.731481</td>\n",
              "      <td>-1.308824</td>\n",
              "      <td>-0.500000</td>\n",
              "      <td>-2.000000</td>\n",
              "      <td>-1.951613</td>\n",
              "      <td>-1.706422</td>\n",
              "      <td>-1.275362</td>\n",
              "      <td>-0.500000</td>\n",
              "      <td>...</td>\n",
              "      <td>0.000000</td>\n",
              "      <td>0.000000</td>\n",
              "      <td>0.000000</td>\n",
              "      <td>0.000000</td>\n",
              "      <td>0.000000</td>\n",
              "      <td>0.000000</td>\n",
              "      <td>0.000000</td>\n",
              "      <td>0.000000</td>\n",
              "      <td>0.000000</td>\n",
              "      <td>0.000000</td>\n",
              "    </tr>\n",
              "    <tr>\n",
              "      <th>25%</th>\n",
              "      <td>-0.571429</td>\n",
              "      <td>-0.500000</td>\n",
              "      <td>-0.527778</td>\n",
              "      <td>-0.426471</td>\n",
              "      <td>-0.500000</td>\n",
              "      <td>-0.428571</td>\n",
              "      <td>-0.524194</td>\n",
              "      <td>-0.541284</td>\n",
              "      <td>-0.434783</td>\n",
              "      <td>-0.500000</td>\n",
              "      <td>...</td>\n",
              "      <td>0.000000</td>\n",
              "      <td>0.000000</td>\n",
              "      <td>0.000000</td>\n",
              "      <td>0.000000</td>\n",
              "      <td>0.000000</td>\n",
              "      <td>0.000000</td>\n",
              "      <td>0.000000</td>\n",
              "      <td>0.000000</td>\n",
              "      <td>0.000000</td>\n",
              "      <td>0.000000</td>\n",
              "    </tr>\n",
              "    <tr>\n",
              "      <th>50%</th>\n",
              "      <td>0.000000</td>\n",
              "      <td>0.000000</td>\n",
              "      <td>0.000000</td>\n",
              "      <td>0.000000</td>\n",
              "      <td>0.000000</td>\n",
              "      <td>0.000000</td>\n",
              "      <td>0.000000</td>\n",
              "      <td>0.000000</td>\n",
              "      <td>0.000000</td>\n",
              "      <td>0.000000</td>\n",
              "      <td>...</td>\n",
              "      <td>0.000000</td>\n",
              "      <td>0.000000</td>\n",
              "      <td>0.000000</td>\n",
              "      <td>0.000000</td>\n",
              "      <td>0.000000</td>\n",
              "      <td>0.000000</td>\n",
              "      <td>0.000000</td>\n",
              "      <td>0.000000</td>\n",
              "      <td>0.000000</td>\n",
              "      <td>0.000000</td>\n",
              "    </tr>\n",
              "    <tr>\n",
              "      <th>75%</th>\n",
              "      <td>0.428571</td>\n",
              "      <td>0.500000</td>\n",
              "      <td>0.472222</td>\n",
              "      <td>0.573529</td>\n",
              "      <td>0.500000</td>\n",
              "      <td>0.571429</td>\n",
              "      <td>0.475806</td>\n",
              "      <td>0.458716</td>\n",
              "      <td>0.565217</td>\n",
              "      <td>0.500000</td>\n",
              "      <td>...</td>\n",
              "      <td>0.000000</td>\n",
              "      <td>0.000000</td>\n",
              "      <td>0.000000</td>\n",
              "      <td>0.000000</td>\n",
              "      <td>0.000000</td>\n",
              "      <td>0.000000</td>\n",
              "      <td>0.000000</td>\n",
              "      <td>0.000000</td>\n",
              "      <td>0.000000</td>\n",
              "      <td>0.000000</td>\n",
              "    </tr>\n",
              "    <tr>\n",
              "      <th>max</th>\n",
              "      <td>2.142857</td>\n",
              "      <td>2.304688</td>\n",
              "      <td>2.361111</td>\n",
              "      <td>2.632353</td>\n",
              "      <td>3.000000</td>\n",
              "      <td>2.285714</td>\n",
              "      <td>2.387097</td>\n",
              "      <td>2.348624</td>\n",
              "      <td>2.608696</td>\n",
              "      <td>3.000000</td>\n",
              "      <td>...</td>\n",
              "      <td>1.000000</td>\n",
              "      <td>1.000000</td>\n",
              "      <td>1.000000</td>\n",
              "      <td>1.000000</td>\n",
              "      <td>1.000000</td>\n",
              "      <td>1.000000</td>\n",
              "      <td>1.000000</td>\n",
              "      <td>1.000000</td>\n",
              "      <td>1.000000</td>\n",
              "      <td>1.000000</td>\n",
              "    </tr>\n",
              "  </tbody>\n",
              "</table>\n",
              "<p>8 rows × 79 columns</p>\n",
              "</div>\n",
              "      <button class=\"colab-df-convert\" onclick=\"convertToInteractive('df-e54f1480-adc0-4de0-a141-e9e28aa23355')\"\n",
              "              title=\"Convert this dataframe to an interactive table.\"\n",
              "              style=\"display:none;\">\n",
              "        \n",
              "  <svg xmlns=\"http://www.w3.org/2000/svg\" height=\"24px\"viewBox=\"0 0 24 24\"\n",
              "       width=\"24px\">\n",
              "    <path d=\"M0 0h24v24H0V0z\" fill=\"none\"/>\n",
              "    <path d=\"M18.56 5.44l.94 2.06.94-2.06 2.06-.94-2.06-.94-.94-2.06-.94 2.06-2.06.94zm-11 1L8.5 8.5l.94-2.06 2.06-.94-2.06-.94L8.5 2.5l-.94 2.06-2.06.94zm10 10l.94 2.06.94-2.06 2.06-.94-2.06-.94-.94-2.06-.94 2.06-2.06.94z\"/><path d=\"M17.41 7.96l-1.37-1.37c-.4-.4-.92-.59-1.43-.59-.52 0-1.04.2-1.43.59L10.3 9.45l-7.72 7.72c-.78.78-.78 2.05 0 2.83L4 21.41c.39.39.9.59 1.41.59.51 0 1.02-.2 1.41-.59l7.78-7.78 2.81-2.81c.8-.78.8-2.07 0-2.86zM5.41 20L4 18.59l7.72-7.72 1.47 1.35L5.41 20z\"/>\n",
              "  </svg>\n",
              "      </button>\n",
              "      \n",
              "  <style>\n",
              "    .colab-df-container {\n",
              "      display:flex;\n",
              "      flex-wrap:wrap;\n",
              "      gap: 12px;\n",
              "    }\n",
              "\n",
              "    .colab-df-convert {\n",
              "      background-color: #E8F0FE;\n",
              "      border: none;\n",
              "      border-radius: 50%;\n",
              "      cursor: pointer;\n",
              "      display: none;\n",
              "      fill: #1967D2;\n",
              "      height: 32px;\n",
              "      padding: 0 0 0 0;\n",
              "      width: 32px;\n",
              "    }\n",
              "\n",
              "    .colab-df-convert:hover {\n",
              "      background-color: #E2EBFA;\n",
              "      box-shadow: 0px 1px 2px rgba(60, 64, 67, 0.3), 0px 1px 3px 1px rgba(60, 64, 67, 0.15);\n",
              "      fill: #174EA6;\n",
              "    }\n",
              "\n",
              "    [theme=dark] .colab-df-convert {\n",
              "      background-color: #3B4455;\n",
              "      fill: #D2E3FC;\n",
              "    }\n",
              "\n",
              "    [theme=dark] .colab-df-convert:hover {\n",
              "      background-color: #434B5C;\n",
              "      box-shadow: 0px 1px 3px 1px rgba(0, 0, 0, 0.15);\n",
              "      filter: drop-shadow(0px 1px 2px rgba(0, 0, 0, 0.3));\n",
              "      fill: #FFFFFF;\n",
              "    }\n",
              "  </style>\n",
              "\n",
              "      <script>\n",
              "        const buttonEl =\n",
              "          document.querySelector('#df-e54f1480-adc0-4de0-a141-e9e28aa23355 button.colab-df-convert');\n",
              "        buttonEl.style.display =\n",
              "          google.colab.kernel.accessAllowed ? 'block' : 'none';\n",
              "\n",
              "        async function convertToInteractive(key) {\n",
              "          const element = document.querySelector('#df-e54f1480-adc0-4de0-a141-e9e28aa23355');\n",
              "          const dataTable =\n",
              "            await google.colab.kernel.invokeFunction('convertToInteractive',\n",
              "                                                     [key], {});\n",
              "          if (!dataTable) return;\n",
              "\n",
              "          const docLinkHtml = 'Like what you see? Visit the ' +\n",
              "            '<a target=\"_blank\" href=https://colab.research.google.com/notebooks/data_table.ipynb>data table notebook</a>'\n",
              "            + ' to learn more about interactive tables.';\n",
              "          element.innerHTML = '';\n",
              "          dataTable['output_type'] = 'display_data';\n",
              "          await google.colab.output.renderOutput(dataTable, element);\n",
              "          const docLink = document.createElement('div');\n",
              "          docLink.innerHTML = docLinkHtml;\n",
              "          element.appendChild(docLink);\n",
              "        }\n",
              "      </script>\n",
              "    </div>\n",
              "  </div>\n",
              "  "
            ]
          },
          "metadata": {},
          "execution_count": 274
        }
      ]
    },
    {
      "cell_type": "code",
      "source": [
        "\n"
      ],
      "metadata": {
        "id": "P3dp8DNIATvA"
      },
      "execution_count": 274,
      "outputs": []
    },
    {
      "cell_type": "markdown",
      "source": [
        "#Load model"
      ],
      "metadata": {
        "id": "d0VjVNmunKXb"
      }
    },
    {
      "cell_type": "code",
      "source": [
        "from tensorflow.keras.datasets import mnist\n",
        "from tensorflow.keras.layers import Dense, Flatten, Conv2D\n",
        "from tensorflow.keras.losses import sparse_categorical_crossentropy\n",
        "from tensorflow.keras.models import Sequential\n",
        "from tensorflow.keras.optimizers import Adam\n",
        "from tensorflow.keras.models import Sequential, save_model, load_model\n",
        "\n",
        "# Recreate the exact same model, including its weights and the optimizer\n",
        "model = load_model('NFLmodel.h5')\n",
        "\n",
        "# Show the model architecture\n",
        "model.summary()"
      ],
      "metadata": {
        "id": "Or74gXQoDZk7",
        "colab": {
          "base_uri": "https://localhost:8080/"
        },
        "outputId": "a0a125a6-82f5-4721-be5e-950dbf0a57d6"
      },
      "execution_count": 275,
      "outputs": [
        {
          "output_type": "stream",
          "name": "stdout",
          "text": [
            "Model: \"sequential\"\n",
            "_________________________________________________________________\n",
            " Layer (type)                Output Shape              Param #   \n",
            "=================================================================\n",
            " dense (Dense)               (None, 79)                6320      \n",
            "                                                                 \n",
            " activation (Activation)     (None, 79)                0         \n",
            "                                                                 \n",
            " dense_1 (Dense)             (None, 100)               8000      \n",
            "                                                                 \n",
            " activation_1 (Activation)   (None, 100)               0         \n",
            "                                                                 \n",
            " dropout (Dropout)           (None, 100)               0         \n",
            "                                                                 \n",
            " dense_2 (Dense)             (None, 80)                8080      \n",
            "                                                                 \n",
            " activation_2 (Activation)   (None, 80)                0         \n",
            "                                                                 \n",
            " dropout_1 (Dropout)         (None, 80)                0         \n",
            "                                                                 \n",
            " dense_3 (Dense)             (None, 1)                 81        \n",
            "                                                                 \n",
            "=================================================================\n",
            "Total params: 22,481\n",
            "Trainable params: 22,481\n",
            "Non-trainable params: 0\n",
            "_________________________________________________________________\n"
          ]
        }
      ]
    },
    {
      "cell_type": "markdown",
      "source": [
        "#Test"
      ],
      "metadata": {
        "id": "INwLYZFbAcbA"
      }
    },
    {
      "cell_type": "code",
      "source": [
        "\n",
        "df_19['prediction'] = model.predict(df_scaled_19)\n",
        "df_20['prediction'] = model.predict(df_scaled_20)\n",
        "df_21['prediction'] = model.predict(df_scaled_21)\n",
        "df_22['prediction'] = model.predict(df_scaled_22)"
      ],
      "metadata": {
        "id": "vTiZLs3MnxTv",
        "colab": {
          "base_uri": "https://localhost:8080/"
        },
        "outputId": "40ebb17d-04a0-4d58-b777-ce32d07dc68b"
      },
      "execution_count": 276,
      "outputs": [
        {
          "output_type": "stream",
          "name": "stdout",
          "text": [
            "17/17 [==============================] - 0s 1ms/step\n",
            "17/17 [==============================] - 0s 1ms/step\n",
            "18/18 [==============================] - 0s 1ms/step\n",
            "5/5 [==============================] - 0s 3ms/step\n"
          ]
        }
      ]
    },
    {
      "cell_type": "code",
      "source": [
        "df_scaled_19.shape"
      ],
      "metadata": {
        "colab": {
          "base_uri": "https://localhost:8080/"
        },
        "id": "ZG3fGg4Rg6k7",
        "outputId": "c7781b8a-5947-42c9-9e39-ea1502837c8c"
      },
      "execution_count": 277,
      "outputs": [
        {
          "output_type": "execute_result",
          "data": {
            "text/plain": [
              "(518, 79)"
            ]
          },
          "metadata": {},
          "execution_count": 277
        }
      ]
    },
    {
      "cell_type": "code",
      "source": [
        "#df_evaluation.to_csv('NFL2019_prediction.csv')"
      ],
      "metadata": {
        "id": "8zPPD2nSAmJ5"
      },
      "execution_count": 278,
      "outputs": []
    },
    {
      "cell_type": "code",
      "source": [
        "df_19.head(5)"
      ],
      "metadata": {
        "colab": {
          "base_uri": "https://localhost:8080/",
          "height": 206
        },
        "id": "l97uOVhPhskk",
        "outputId": "d1a4f0f7-ff5b-44bd-a856-b653478a4297"
      },
      "execution_count": 279,
      "outputs": [
        {
          "output_type": "execute_result",
          "data": {
            "text/plain": [
              "                    Opp  1stD  TotYd  PassY  RushY   TO  1stD.1  TotYd.1  \\\n",
              "0        Houston Texans  24.0  425.0  253.0  172.0  1.0    19.0    360.0   \n",
              "1  New England Patriots  19.0  272.0   71.0  201.0  1.0    18.0    307.0   \n",
              "2         Buffalo Bills  19.0  360.0  219.0  141.0  1.0    24.0    425.0   \n",
              "3      Tennessee Titans  18.0  307.0  209.0   98.0  2.0    19.0    272.0   \n",
              "4      Seattle Seahawks  20.0  282.0  162.0  120.0  0.0    16.0    382.0   \n",
              "\n",
              "   PassY.1  RushY.1  TO.1  Offense  Defense  Sp. Tms             Home_team  \\\n",
              "0    219.0    141.0   1.0    -1.04    -2.61     1.38         Buffalo Bills   \n",
              "1    209.0     98.0   2.0     2.83     0.84     0.20      Tennessee Titans   \n",
              "2    253.0    172.0   1.0     2.61     1.04    -1.38        Houston Texans   \n",
              "3     71.0    201.0   1.0    -0.84    -2.83    -0.20  New England Patriots   \n",
              "4    318.0     64.0   0.0    -1.96   -10.59     3.79   Philadelphia Eagles   \n",
              "\n",
              "   prediction  \n",
              "0   17.532558  \n",
              "1   21.577148  \n",
              "2   19.112190  \n",
              "3   16.528255  \n",
              "4   17.032543  "
            ],
            "text/html": [
              "\n",
              "  <div id=\"df-4a9cf55f-de55-4357-a510-62513f522c43\">\n",
              "    <div class=\"colab-df-container\">\n",
              "      <div>\n",
              "<style scoped>\n",
              "    .dataframe tbody tr th:only-of-type {\n",
              "        vertical-align: middle;\n",
              "    }\n",
              "\n",
              "    .dataframe tbody tr th {\n",
              "        vertical-align: top;\n",
              "    }\n",
              "\n",
              "    .dataframe thead th {\n",
              "        text-align: right;\n",
              "    }\n",
              "</style>\n",
              "<table border=\"1\" class=\"dataframe\">\n",
              "  <thead>\n",
              "    <tr style=\"text-align: right;\">\n",
              "      <th></th>\n",
              "      <th>Opp</th>\n",
              "      <th>1stD</th>\n",
              "      <th>TotYd</th>\n",
              "      <th>PassY</th>\n",
              "      <th>RushY</th>\n",
              "      <th>TO</th>\n",
              "      <th>1stD.1</th>\n",
              "      <th>TotYd.1</th>\n",
              "      <th>PassY.1</th>\n",
              "      <th>RushY.1</th>\n",
              "      <th>TO.1</th>\n",
              "      <th>Offense</th>\n",
              "      <th>Defense</th>\n",
              "      <th>Sp. Tms</th>\n",
              "      <th>Home_team</th>\n",
              "      <th>prediction</th>\n",
              "    </tr>\n",
              "  </thead>\n",
              "  <tbody>\n",
              "    <tr>\n",
              "      <th>0</th>\n",
              "      <td>Houston Texans</td>\n",
              "      <td>24.0</td>\n",
              "      <td>425.0</td>\n",
              "      <td>253.0</td>\n",
              "      <td>172.0</td>\n",
              "      <td>1.0</td>\n",
              "      <td>19.0</td>\n",
              "      <td>360.0</td>\n",
              "      <td>219.0</td>\n",
              "      <td>141.0</td>\n",
              "      <td>1.0</td>\n",
              "      <td>-1.04</td>\n",
              "      <td>-2.61</td>\n",
              "      <td>1.38</td>\n",
              "      <td>Buffalo Bills</td>\n",
              "      <td>17.532558</td>\n",
              "    </tr>\n",
              "    <tr>\n",
              "      <th>1</th>\n",
              "      <td>New England Patriots</td>\n",
              "      <td>19.0</td>\n",
              "      <td>272.0</td>\n",
              "      <td>71.0</td>\n",
              "      <td>201.0</td>\n",
              "      <td>1.0</td>\n",
              "      <td>18.0</td>\n",
              "      <td>307.0</td>\n",
              "      <td>209.0</td>\n",
              "      <td>98.0</td>\n",
              "      <td>2.0</td>\n",
              "      <td>2.83</td>\n",
              "      <td>0.84</td>\n",
              "      <td>0.20</td>\n",
              "      <td>Tennessee Titans</td>\n",
              "      <td>21.577148</td>\n",
              "    </tr>\n",
              "    <tr>\n",
              "      <th>2</th>\n",
              "      <td>Buffalo Bills</td>\n",
              "      <td>19.0</td>\n",
              "      <td>360.0</td>\n",
              "      <td>219.0</td>\n",
              "      <td>141.0</td>\n",
              "      <td>1.0</td>\n",
              "      <td>24.0</td>\n",
              "      <td>425.0</td>\n",
              "      <td>253.0</td>\n",
              "      <td>172.0</td>\n",
              "      <td>1.0</td>\n",
              "      <td>2.61</td>\n",
              "      <td>1.04</td>\n",
              "      <td>-1.38</td>\n",
              "      <td>Houston Texans</td>\n",
              "      <td>19.112190</td>\n",
              "    </tr>\n",
              "    <tr>\n",
              "      <th>3</th>\n",
              "      <td>Tennessee Titans</td>\n",
              "      <td>18.0</td>\n",
              "      <td>307.0</td>\n",
              "      <td>209.0</td>\n",
              "      <td>98.0</td>\n",
              "      <td>2.0</td>\n",
              "      <td>19.0</td>\n",
              "      <td>272.0</td>\n",
              "      <td>71.0</td>\n",
              "      <td>201.0</td>\n",
              "      <td>1.0</td>\n",
              "      <td>-0.84</td>\n",
              "      <td>-2.83</td>\n",
              "      <td>-0.20</td>\n",
              "      <td>New England Patriots</td>\n",
              "      <td>16.528255</td>\n",
              "    </tr>\n",
              "    <tr>\n",
              "      <th>4</th>\n",
              "      <td>Seattle Seahawks</td>\n",
              "      <td>20.0</td>\n",
              "      <td>282.0</td>\n",
              "      <td>162.0</td>\n",
              "      <td>120.0</td>\n",
              "      <td>0.0</td>\n",
              "      <td>16.0</td>\n",
              "      <td>382.0</td>\n",
              "      <td>318.0</td>\n",
              "      <td>64.0</td>\n",
              "      <td>0.0</td>\n",
              "      <td>-1.96</td>\n",
              "      <td>-10.59</td>\n",
              "      <td>3.79</td>\n",
              "      <td>Philadelphia Eagles</td>\n",
              "      <td>17.032543</td>\n",
              "    </tr>\n",
              "  </tbody>\n",
              "</table>\n",
              "</div>\n",
              "      <button class=\"colab-df-convert\" onclick=\"convertToInteractive('df-4a9cf55f-de55-4357-a510-62513f522c43')\"\n",
              "              title=\"Convert this dataframe to an interactive table.\"\n",
              "              style=\"display:none;\">\n",
              "        \n",
              "  <svg xmlns=\"http://www.w3.org/2000/svg\" height=\"24px\"viewBox=\"0 0 24 24\"\n",
              "       width=\"24px\">\n",
              "    <path d=\"M0 0h24v24H0V0z\" fill=\"none\"/>\n",
              "    <path d=\"M18.56 5.44l.94 2.06.94-2.06 2.06-.94-2.06-.94-.94-2.06-.94 2.06-2.06.94zm-11 1L8.5 8.5l.94-2.06 2.06-.94-2.06-.94L8.5 2.5l-.94 2.06-2.06.94zm10 10l.94 2.06.94-2.06 2.06-.94-2.06-.94-.94-2.06-.94 2.06-2.06.94z\"/><path d=\"M17.41 7.96l-1.37-1.37c-.4-.4-.92-.59-1.43-.59-.52 0-1.04.2-1.43.59L10.3 9.45l-7.72 7.72c-.78.78-.78 2.05 0 2.83L4 21.41c.39.39.9.59 1.41.59.51 0 1.02-.2 1.41-.59l7.78-7.78 2.81-2.81c.8-.78.8-2.07 0-2.86zM5.41 20L4 18.59l7.72-7.72 1.47 1.35L5.41 20z\"/>\n",
              "  </svg>\n",
              "      </button>\n",
              "      \n",
              "  <style>\n",
              "    .colab-df-container {\n",
              "      display:flex;\n",
              "      flex-wrap:wrap;\n",
              "      gap: 12px;\n",
              "    }\n",
              "\n",
              "    .colab-df-convert {\n",
              "      background-color: #E8F0FE;\n",
              "      border: none;\n",
              "      border-radius: 50%;\n",
              "      cursor: pointer;\n",
              "      display: none;\n",
              "      fill: #1967D2;\n",
              "      height: 32px;\n",
              "      padding: 0 0 0 0;\n",
              "      width: 32px;\n",
              "    }\n",
              "\n",
              "    .colab-df-convert:hover {\n",
              "      background-color: #E2EBFA;\n",
              "      box-shadow: 0px 1px 2px rgba(60, 64, 67, 0.3), 0px 1px 3px 1px rgba(60, 64, 67, 0.15);\n",
              "      fill: #174EA6;\n",
              "    }\n",
              "\n",
              "    [theme=dark] .colab-df-convert {\n",
              "      background-color: #3B4455;\n",
              "      fill: #D2E3FC;\n",
              "    }\n",
              "\n",
              "    [theme=dark] .colab-df-convert:hover {\n",
              "      background-color: #434B5C;\n",
              "      box-shadow: 0px 1px 3px 1px rgba(0, 0, 0, 0.15);\n",
              "      filter: drop-shadow(0px 1px 2px rgba(0, 0, 0, 0.3));\n",
              "      fill: #FFFFFF;\n",
              "    }\n",
              "  </style>\n",
              "\n",
              "      <script>\n",
              "        const buttonEl =\n",
              "          document.querySelector('#df-4a9cf55f-de55-4357-a510-62513f522c43 button.colab-df-convert');\n",
              "        buttonEl.style.display =\n",
              "          google.colab.kernel.accessAllowed ? 'block' : 'none';\n",
              "\n",
              "        async function convertToInteractive(key) {\n",
              "          const element = document.querySelector('#df-4a9cf55f-de55-4357-a510-62513f522c43');\n",
              "          const dataTable =\n",
              "            await google.colab.kernel.invokeFunction('convertToInteractive',\n",
              "                                                     [key], {});\n",
              "          if (!dataTable) return;\n",
              "\n",
              "          const docLinkHtml = 'Like what you see? Visit the ' +\n",
              "            '<a target=\"_blank\" href=https://colab.research.google.com/notebooks/data_table.ipynb>data table notebook</a>'\n",
              "            + ' to learn more about interactive tables.';\n",
              "          element.innerHTML = '';\n",
              "          dataTable['output_type'] = 'display_data';\n",
              "          await google.colab.output.renderOutput(dataTable, element);\n",
              "          const docLink = document.createElement('div');\n",
              "          docLink.innerHTML = docLinkHtml;\n",
              "          element.appendChild(docLink);\n",
              "        }\n",
              "      </script>\n",
              "    </div>\n",
              "  </div>\n",
              "  "
            ]
          },
          "metadata": {},
          "execution_count": 279
        }
      ]
    },
    {
      "cell_type": "code",
      "source": [
        "df_19['Away_score'] = 0\n",
        "df_20['Away_score'] = 0\n",
        "df_21['Away_score'] = 0\n",
        "df_22['Away_score'] = 0"
      ],
      "metadata": {
        "id": "PbrGYlotjETN"
      },
      "execution_count": 280,
      "outputs": []
    },
    {
      "cell_type": "code",
      "source": [
        "#assigning the away score\n",
        "  #df.iloc[i][0] = opp\n",
        "  #df.iloc[i][14] = Home_team\n",
        "#df_evaluation['opp_score']\n",
        "\n",
        "#2019\n",
        "for i in range(len(df_19)):\n",
        "  home = df_19.iloc[i][14]\n",
        "  away = df_19.iloc[i][0]\n",
        "  score = df_19.iloc[i][15]\n",
        "  for x in range(len(df_19)):\n",
        "    home_2 = df_19.iloc[x][14]\n",
        "    away_2 = df_19.iloc[x][0]\n",
        "    if home_2 == away and away_2 == home:\n",
        "      df_19['Away_score'][x] = score"
      ],
      "metadata": {
        "colab": {
          "base_uri": "https://localhost:8080/"
        },
        "id": "iBc6cUuEcZQz",
        "outputId": "ac15027c-2132-482a-8db9-60463359798e"
      },
      "execution_count": 281,
      "outputs": [
        {
          "output_type": "stream",
          "name": "stderr",
          "text": [
            "/usr/local/lib/python3.7/dist-packages/ipykernel_launcher.py:15: SettingWithCopyWarning: \n",
            "A value is trying to be set on a copy of a slice from a DataFrame\n",
            "\n",
            "See the caveats in the documentation: https://pandas.pydata.org/pandas-docs/stable/user_guide/indexing.html#returning-a-view-versus-a-copy\n",
            "  from ipykernel import kernelapp as app\n"
          ]
        }
      ]
    },
    {
      "cell_type": "code",
      "source": [
        "#2020\n",
        "for i in range(len(df_20)):\n",
        "  home = df_20.iloc[i][14]\n",
        "  away = df_20.iloc[i][0]\n",
        "  score = df_20.iloc[i][15]\n",
        "  for x in range(len(df_20)):\n",
        "    home_2 = df_20.iloc[x][14]\n",
        "    away_2 = df_20.iloc[x][0]\n",
        "    if home_2 == away and away_2 == home:\n",
        "      df_20['Away_score'][x] = score"
      ],
      "metadata": {
        "colab": {
          "base_uri": "https://localhost:8080/"
        },
        "id": "cIo2atqNddLx",
        "outputId": "150c75be-a3fd-4526-84bf-2957e114b409"
      },
      "execution_count": 282,
      "outputs": [
        {
          "output_type": "stream",
          "name": "stderr",
          "text": [
            "/usr/local/lib/python3.7/dist-packages/ipykernel_launcher.py:10: SettingWithCopyWarning: \n",
            "A value is trying to be set on a copy of a slice from a DataFrame\n",
            "\n",
            "See the caveats in the documentation: https://pandas.pydata.org/pandas-docs/stable/user_guide/indexing.html#returning-a-view-versus-a-copy\n",
            "  # Remove the CWD from sys.path while we load stuff.\n"
          ]
        }
      ]
    },
    {
      "cell_type": "code",
      "source": [
        "#2021\n",
        "for i in range(len(df_21)):\n",
        "  home = df_21.iloc[i][14]\n",
        "  away = df_21.iloc[i][0]\n",
        "  score = df_21.iloc[i][15]\n",
        "  for x in range(len(df_21)):\n",
        "    home_2 = df_21.iloc[x][14]\n",
        "    away_2 = df_21.iloc[x][0]\n",
        "    if home_2 == away and away_2 == home:\n",
        "      df_21['Away_score'][x] = score"
      ],
      "metadata": {
        "colab": {
          "base_uri": "https://localhost:8080/"
        },
        "id": "MDv_2TD9eIpM",
        "outputId": "900dd03a-be84-4e21-c8b1-d1836a20efdc"
      },
      "execution_count": 283,
      "outputs": [
        {
          "output_type": "stream",
          "name": "stderr",
          "text": [
            "/usr/local/lib/python3.7/dist-packages/ipykernel_launcher.py:10: SettingWithCopyWarning: \n",
            "A value is trying to be set on a copy of a slice from a DataFrame\n",
            "\n",
            "See the caveats in the documentation: https://pandas.pydata.org/pandas-docs/stable/user_guide/indexing.html#returning-a-view-versus-a-copy\n",
            "  # Remove the CWD from sys.path while we load stuff.\n"
          ]
        }
      ]
    },
    {
      "cell_type": "code",
      "source": [
        "#2022\n",
        "for i in range(len(df_22)):\n",
        "  home = df_22.iloc[i][14]\n",
        "  away = df_22.iloc[i][0]\n",
        "  score = df_22.iloc[i][15]\n",
        "  for x in range(len(df_22)):\n",
        "    home_2 = df_22.iloc[x][14]\n",
        "    away_2 = df_22.iloc[x][0]\n",
        "    if home_2 == away and away_2 == home:\n",
        "      df_22['Away_score'][x] = score"
      ],
      "metadata": {
        "colab": {
          "base_uri": "https://localhost:8080/"
        },
        "id": "NXGSEagAeOpl",
        "outputId": "2ac17e6f-0b34-4ae2-f0c1-b81b4efb5f23"
      },
      "execution_count": 284,
      "outputs": [
        {
          "output_type": "stream",
          "name": "stderr",
          "text": [
            "/usr/local/lib/python3.7/dist-packages/ipykernel_launcher.py:10: SettingWithCopyWarning: \n",
            "A value is trying to be set on a copy of a slice from a DataFrame\n",
            "\n",
            "See the caveats in the documentation: https://pandas.pydata.org/pandas-docs/stable/user_guide/indexing.html#returning-a-view-versus-a-copy\n",
            "  # Remove the CWD from sys.path while we load stuff.\n"
          ]
        }
      ]
    },
    {
      "cell_type": "code",
      "source": [
        "#combine the result with the actaul winning\n",
        "df_19['Actual_winner'] = df_19_winner\n",
        "df_20['Actual_winner'] = df_20_winner\n",
        "df_21['Actual_winner'] = df_21_winner\n",
        "df_22['Actual_winner'] = df_22_winner\n"
      ],
      "metadata": {
        "id": "FfLOVtdIf3uk"
      },
      "execution_count": 285,
      "outputs": []
    },
    {
      "cell_type": "code",
      "source": [
        "#stating pred_winner\n",
        "df_19['Pred_winner'] = ''\n",
        "df_20['Pred_winner'] = ''\n",
        "df_21['Pred_winner'] = ''\n",
        "df_22['Pred_winner'] = ''\n"
      ],
      "metadata": {
        "id": "200jyIFxnK_V"
      },
      "execution_count": 288,
      "outputs": []
    },
    {
      "cell_type": "code",
      "source": [
        "#function to diciede the winenr\n",
        "def pred_win(df):\n",
        "  result = ''\n",
        "  for i in range(len(df)):\n",
        "    if df['prediction'][i] > df['Away_score'][i]:\n",
        "      result = 'W'\n",
        "      df['Pred_winner'][i] = result\n",
        "    else:\n",
        "      result = 'L'\n",
        "      df['Pred_winner'][i] = result\n",
        "\n",
        "  return df"
      ],
      "metadata": {
        "id": "qOJBiIaJgPFk"
      },
      "execution_count": 289,
      "outputs": []
    },
    {
      "cell_type": "code",
      "source": [
        "new_19 = pred_win(df_19)\n",
        "new_20 = pred_win(df_20)\n",
        "new_21 = pred_win(df_21)\n",
        "new_22 = pred_win(df_22)\n"
      ],
      "metadata": {
        "colab": {
          "base_uri": "https://localhost:8080/"
        },
        "id": "ePytUHGclMpM",
        "outputId": "071f8722-fc60-4ccd-feee-fe65db7360f6"
      },
      "execution_count": 291,
      "outputs": [
        {
          "output_type": "stream",
          "name": "stderr",
          "text": [
            "/usr/local/lib/python3.7/dist-packages/ipykernel_launcher.py:10: SettingWithCopyWarning: \n",
            "A value is trying to be set on a copy of a slice from a DataFrame\n",
            "\n",
            "See the caveats in the documentation: https://pandas.pydata.org/pandas-docs/stable/user_guide/indexing.html#returning-a-view-versus-a-copy\n",
            "  # Remove the CWD from sys.path while we load stuff.\n",
            "/usr/local/lib/python3.7/dist-packages/ipykernel_launcher.py:7: SettingWithCopyWarning: \n",
            "A value is trying to be set on a copy of a slice from a DataFrame\n",
            "\n",
            "See the caveats in the documentation: https://pandas.pydata.org/pandas-docs/stable/user_guide/indexing.html#returning-a-view-versus-a-copy\n",
            "  import sys\n"
          ]
        }
      ]
    },
    {
      "cell_type": "code",
      "source": [
        "# #2019\n",
        "# for i in range(len(df_19)):\n",
        "#   df_19['Pred_winner'][i] = pred_win(df_19)\n",
        "\n",
        "# #2020\n",
        "# for i in range(len(df_20)):\n",
        "#   df_20['Pred_winner'][i] = pred_win(df_20)\n",
        "\n",
        "# #2021\n",
        "# for i in range(len(df_21)):\n",
        "#   df_21['Pred_winner'][i] = pred_win(df_21)\n",
        "\n",
        "# #2022\n",
        "# for i in range(len(df_22)):\n",
        "#   df_22['Pred_winner'][i] = pred_win(df_22)"
      ],
      "metadata": {
        "id": "-O-nvZykg_MQ"
      },
      "execution_count": null,
      "outputs": []
    },
    {
      "cell_type": "code",
      "source": [
        "def accuracy(df):\n",
        "  correct = 0\n",
        "  for i in range(len(df)):\n",
        "    if df['Pred_winner'][i] == df['Actual_winner'][i]:\n",
        "      correct += 1\n",
        "  accuracy = correct / len(df)\n",
        "  return accuracy\n"
      ],
      "metadata": {
        "id": "pH0IHhGplFQ-"
      },
      "execution_count": 292,
      "outputs": []
    },
    {
      "cell_type": "code",
      "source": [
        "#2019\n",
        "a_19 = accuracy(new_19)\n",
        "a_19"
      ],
      "metadata": {
        "colab": {
          "base_uri": "https://localhost:8080/"
        },
        "id": "bOeYqCG9iFVr",
        "outputId": "9fa314e2-fc31-44a2-c59b-24d57b575c4b"
      },
      "execution_count": 298,
      "outputs": [
        {
          "output_type": "execute_result",
          "data": {
            "text/plain": [
              "0.9266409266409267"
            ]
          },
          "metadata": {},
          "execution_count": 298
        }
      ]
    },
    {
      "cell_type": "code",
      "source": [
        "#2020\n",
        "a_20 = accuracy(new_20)\n",
        "a_20"
      ],
      "metadata": {
        "colab": {
          "base_uri": "https://localhost:8080/"
        },
        "id": "oxbhp4DhcaV_",
        "outputId": "4f8f1cbe-f84c-4e0e-f876-79fc4a1e697e"
      },
      "execution_count": 299,
      "outputs": [
        {
          "output_type": "execute_result",
          "data": {
            "text/plain": [
              "0.8694817658349329"
            ]
          },
          "metadata": {},
          "execution_count": 299
        }
      ]
    },
    {
      "cell_type": "code",
      "source": [
        "#2021\n",
        "a_21 = accuracy(new_21)\n",
        "a_21"
      ],
      "metadata": {
        "colab": {
          "base_uri": "https://localhost:8080/"
        },
        "id": "fa5BdaDfiOgt",
        "outputId": "519f37ee-fa4f-44fe-de22-dfcb0d03f84f"
      },
      "execution_count": 300,
      "outputs": [
        {
          "output_type": "execute_result",
          "data": {
            "text/plain": [
              "0.8698010849909584"
            ]
          },
          "metadata": {},
          "execution_count": 300
        }
      ]
    },
    {
      "cell_type": "code",
      "source": [
        "#2022\n",
        "a_22 = accuracy(new_22)\n",
        "a_22"
      ],
      "metadata": {
        "colab": {
          "base_uri": "https://localhost:8080/"
        },
        "id": "ge6q48YQiQCz",
        "outputId": "1c22bda4-c866-4e44-cd20-d655c6b858ce"
      },
      "execution_count": 301,
      "outputs": [
        {
          "output_type": "execute_result",
          "data": {
            "text/plain": [
              "0.8734177215189873"
            ]
          },
          "metadata": {},
          "execution_count": 301
        }
      ]
    },
    {
      "cell_type": "code",
      "source": [
        "total_acc = (a_19 + a_20 + a_21 + a_22) / 4\n",
        "total_acc"
      ],
      "metadata": {
        "colab": {
          "base_uri": "https://localhost:8080/"
        },
        "id": "a9RqxyjLnu66",
        "outputId": "f4102fae-ade9-4de0-9805-a81fec484f0f"
      },
      "execution_count": 303,
      "outputs": [
        {
          "output_type": "execute_result",
          "data": {
            "text/plain": [
              "0.8848353747464512"
            ]
          },
          "metadata": {},
          "execution_count": 303
        }
      ]
    },
    {
      "cell_type": "code",
      "source": [],
      "metadata": {
        "id": "MCnh7SKMoX3k"
      },
      "execution_count": null,
      "outputs": []
    }
  ]
}